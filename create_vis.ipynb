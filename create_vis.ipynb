{
 "cells": [
  {
   "cell_type": "code",
   "execution_count": 1,
   "metadata": {},
   "outputs": [],
   "source": [
    "import pandas as pd  # dataframe library\n",
    "\n",
    "filename = 'csv/kdrama_data.csv'\n",
    "# filename = r\"C:\\Users\\John Kim\\Desktop\\kdrama_data.csv\"\n",
    "\n",
    "df = pd.read_csv(filename)\n",
    "df = df[['title', 'description', 'keywords',\n",
    "         'genres', 'actors', 'director', 'screenwriter']]\n",
    "\n",
    "\n",
    "def remove_chars(string):\n",
    "    if isinstance(string, str) == False:\n",
    "        return string\n",
    "    remove_list = [\"[\", \"]\", \"'\"]\n",
    "    for remove in remove_list:\n",
    "        string = string.replace(remove, \"\")\n",
    "    return string\n",
    "\n",
    "\n",
    "def get_info(title):\n",
    "    df = pd.read_csv(filename)\n",
    "    fill_na()\n",
    "    index = search_kdrama(title)\n",
    "\n",
    "    row = df.loc[index]\n",
    "    dicti = row.to_dict()\n",
    "    # removes unnecessary characters\n",
    "    columns = ['keywords', 'genres', 'actors']\n",
    "    for column in columns:\n",
    "        dicti[column] = remove_chars(dicti[column])\n",
    "    return dicti\n",
    "\n",
    "\n",
    "def get_desc_word_count(desc):\n",
    "    word_list = desc.split(' ')\n",
    "    word_count = len(word_list)\n",
    "    return word_count\n",
    "\n",
    "\n",
    "def get_titles():\n",
    "    np_titles = df['title'].to_numpy()\n",
    "    title_list = np_titles.tolist()\n",
    "    return title_list\n",
    "\n",
    "\n",
    "def kdrama_exists(title, klist):\n",
    "    if title is None:\n",
    "        return False\n",
    "    for kdrama in klist:\n",
    "        if title.lower() == kdrama.lower():\n",
    "            return True\n",
    "    return False\n",
    "\n",
    "\n",
    "def fill_na():\n",
    "    \"\"\"replaces na values with an empty string\"\"\"\n",
    "    df.replace(\"N/A\", \"\")\n",
    "    for label in df.columns:\n",
    "        df[label] = df[label].fillna('')  # fills N/A values with \"\"\n",
    "\n",
    "\n",
    "def get_indices():\n",
    "    indices = pd.Series(df.index, index=df['title'])\n",
    "    return indices[~indices.index.duplicated(keep='last')]\n",
    "\n",
    "\n",
    "def search_kdrama(kdrama_name):\n",
    "    \"\"\"searches for kdrama with matching name and returns top result\"\"\"\n",
    "    # return get_indices()[get_indices().index.str.contains(kdrama_name, regex=False, na=False)][0]\n",
    "    return get_indices()[get_indices().index.str.contains(kdrama_name.lower(), case=False, regex=False, na=False)][0]\n"
   ]
  },
  {
   "cell_type": "code",
   "execution_count": 2,
   "metadata": {},
   "outputs": [
    {
     "data": {
      "text/html": [
       "<div>\n",
       "<style scoped>\n",
       "    .dataframe tbody tr th:only-of-type {\n",
       "        vertical-align: middle;\n",
       "    }\n",
       "\n",
       "    .dataframe tbody tr th {\n",
       "        vertical-align: top;\n",
       "    }\n",
       "\n",
       "    .dataframe thead th {\n",
       "        text-align: right;\n",
       "    }\n",
       "</style>\n",
       "<table border=\"1\" class=\"dataframe\">\n",
       "  <thead>\n",
       "    <tr style=\"text-align: right;\">\n",
       "      <th></th>\n",
       "      <th>title</th>\n",
       "      <th>description</th>\n",
       "      <th>keywords</th>\n",
       "      <th>genres</th>\n",
       "      <th>actors</th>\n",
       "      <th>director</th>\n",
       "      <th>screenwriter</th>\n",
       "    </tr>\n",
       "  </thead>\n",
       "  <tbody>\n",
       "    <tr>\n",
       "      <th>0</th>\n",
       "      <td>Move to Heaven</td>\n",
       "      <td>Han Geu Roo is a 20-year-old with Autism. He w...</td>\n",
       "      <td>['Uncle-Nephew Relationship', 'Autism', 'Death...</td>\n",
       "      <td>['Life', 'Drama', 'Family']</td>\n",
       "      <td>['Lee Je Hoon', 'Tang Jun Sang', 'Hong Seung H...</td>\n",
       "      <td>Kim Sung Ho</td>\n",
       "      <td>Yoon Ji Ryun</td>\n",
       "    </tr>\n",
       "    <tr>\n",
       "      <th>1</th>\n",
       "      <td>Hospital Playlist</td>\n",
       "      <td>The stories of people going through their days...</td>\n",
       "      <td>['Multiple Mains', 'Best Friends', 'Slow Roman...</td>\n",
       "      <td>['Friendship', 'Romance', 'Life', 'Medical']</td>\n",
       "      <td>['Jo Jung Suk', 'Yoo Yeon Seok', 'Jung Kyung H...</td>\n",
       "      <td>Shin Won Ho</td>\n",
       "      <td>Lee Woo Jung</td>\n",
       "    </tr>\n",
       "    <tr>\n",
       "      <th>2</th>\n",
       "      <td>Flower of Evil</td>\n",
       "      <td>Although Baek Hee Sung is hiding a dark secret...</td>\n",
       "      <td>['Married Couple', 'Deception', 'Family Secret...</td>\n",
       "      <td>['Thriller', 'Romance', 'Crime', 'Melodrama']</td>\n",
       "      <td>['Lee Joon Gi', 'Moon Chae Won', 'Jang Hee Jin...</td>\n",
       "      <td>Kim Chul Gyu,  Yoon Jong Ho</td>\n",
       "      <td>Yoo Jung Hee</td>\n",
       "    </tr>\n",
       "    <tr>\n",
       "      <th>3</th>\n",
       "      <td>Hospital Playlist 2</td>\n",
       "      <td>Everyday is extraordinary for five doctors and...</td>\n",
       "      <td>['Workplace', 'Strong Friendship', 'Best Frien...</td>\n",
       "      <td>['Friendship', 'Romance', 'Life', 'Medical']</td>\n",
       "      <td>['Jo Jung Suk', 'Yoo Yeon Seok', 'Jung Kyung H...</td>\n",
       "      <td>Shin Won Ho</td>\n",
       "      <td>Lee Woo Jung</td>\n",
       "    </tr>\n",
       "    <tr>\n",
       "      <th>4</th>\n",
       "      <td>My Mister</td>\n",
       "      <td>Park Dong Hoon is a middle-aged engineer who i...</td>\n",
       "      <td>['Nice Male Lead', 'Strong Female Lead', 'Smar...</td>\n",
       "      <td>['Psychological', 'Life', 'Drama', 'Family']</td>\n",
       "      <td>['Lee Sun Kyun', 'IU', 'Park Ho San', 'Song Sa...</td>\n",
       "      <td>Kim Won Suk,  Kim Sang Woo</td>\n",
       "      <td>Park Hae Young</td>\n",
       "    </tr>\n",
       "    <tr>\n",
       "      <th>...</th>\n",
       "      <td>...</td>\n",
       "      <td>...</td>\n",
       "      <td>...</td>\n",
       "      <td>...</td>\n",
       "      <td>...</td>\n",
       "      <td>...</td>\n",
       "      <td>...</td>\n",
       "    </tr>\n",
       "    <tr>\n",
       "      <th>3027</th>\n",
       "      <td>Never Give Up</td>\n",
       "      <td>Depicts the bromance of Goo Pil Soo, a breadwi...</td>\n",
       "      <td>['Businessman Male Lead', 'Entrepreneur Male L...</td>\n",
       "      <td>['Comedy', 'Life', 'Drama']</td>\n",
       "      <td>['Yoon Doo Joon', 'Kwak Do Won', 'Han Go Eun',...</td>\n",
       "      <td>Choi Do Hoon</td>\n",
       "      <td>Son Geun Joo</td>\n",
       "    </tr>\n",
       "    <tr>\n",
       "      <th>3028</th>\n",
       "      <td>Doctor Lawyer</td>\n",
       "      <td>Han Yi Han was an  elite surgeon. He graduated...</td>\n",
       "      <td>['Thoracic Surgeon Male Lead', 'Prosecutor Fem...</td>\n",
       "      <td>['Thriller', 'Law', 'Drama', 'Medical']</td>\n",
       "      <td>['So Ji Sub', 'Shin Sung Rok', 'Im Soo Hyang',...</td>\n",
       "      <td>Lee Yong Seok</td>\n",
       "      <td>Jang Hong Chul</td>\n",
       "    </tr>\n",
       "    <tr>\n",
       "      <th>3029</th>\n",
       "      <td>My Rocket Ship</td>\n",
       "      <td>Gong Ji Hoon, CEO of an AI art collection star...</td>\n",
       "      <td>['Startup', 'Entrepreneur Male Lead', 'Short L...</td>\n",
       "      <td>['Business', 'Life', 'Youth', 'Drama']</td>\n",
       "      <td>['Kim Ji Hoon', 'Moon Kang Hyuk', 'Oh Se Young...</td>\n",
       "      <td>NaN</td>\n",
       "      <td>NaN</td>\n",
       "    </tr>\n",
       "    <tr>\n",
       "      <th>3030</th>\n",
       "      <td>Gold Mask</td>\n",
       "      <td>A tragedy occurs for three women, caused by gr...</td>\n",
       "      <td>['Married Female Lead', 'Loan Shark Female Lea...</td>\n",
       "      <td>['Drama', 'Family', 'Melodrama']</td>\n",
       "      <td>['Cha Ye Ryun', 'Lee Hyun Jin', 'Na Young Hee'...</td>\n",
       "      <td>Uh Soo Sun</td>\n",
       "      <td>Kim Min Joo</td>\n",
       "    </tr>\n",
       "    <tr>\n",
       "      <th>3031</th>\n",
       "      <td>Master's Delicacies</td>\n",
       "      <td>Joo A Ran is a mukbang YouTuber, who is deeply...</td>\n",
       "      <td>['YouTuber Female Lead', 'Chef Male Lead', 'Yo...</td>\n",
       "      <td>['Romance']</td>\n",
       "      <td>['Lee Su Jeong', 'Kim Kwan Soo']</td>\n",
       "      <td>NaN</td>\n",
       "      <td>NaN</td>\n",
       "    </tr>\n",
       "  </tbody>\n",
       "</table>\n",
       "<p>3032 rows × 7 columns</p>\n",
       "</div>"
      ],
      "text/plain": [
       "                    title                                        description  \\\n",
       "0          Move to Heaven  Han Geu Roo is a 20-year-old with Autism. He w...   \n",
       "1       Hospital Playlist  The stories of people going through their days...   \n",
       "2          Flower of Evil  Although Baek Hee Sung is hiding a dark secret...   \n",
       "3     Hospital Playlist 2  Everyday is extraordinary for five doctors and...   \n",
       "4               My Mister  Park Dong Hoon is a middle-aged engineer who i...   \n",
       "...                   ...                                                ...   \n",
       "3027        Never Give Up  Depicts the bromance of Goo Pil Soo, a breadwi...   \n",
       "3028        Doctor Lawyer  Han Yi Han was an  elite surgeon. He graduated...   \n",
       "3029       My Rocket Ship  Gong Ji Hoon, CEO of an AI art collection star...   \n",
       "3030            Gold Mask  A tragedy occurs for three women, caused by gr...   \n",
       "3031  Master's Delicacies  Joo A Ran is a mukbang YouTuber, who is deeply...   \n",
       "\n",
       "                                               keywords  \\\n",
       "0     ['Uncle-Nephew Relationship', 'Autism', 'Death...   \n",
       "1     ['Multiple Mains', 'Best Friends', 'Slow Roman...   \n",
       "2     ['Married Couple', 'Deception', 'Family Secret...   \n",
       "3     ['Workplace', 'Strong Friendship', 'Best Frien...   \n",
       "4     ['Nice Male Lead', 'Strong Female Lead', 'Smar...   \n",
       "...                                                 ...   \n",
       "3027  ['Businessman Male Lead', 'Entrepreneur Male L...   \n",
       "3028  ['Thoracic Surgeon Male Lead', 'Prosecutor Fem...   \n",
       "3029  ['Startup', 'Entrepreneur Male Lead', 'Short L...   \n",
       "3030  ['Married Female Lead', 'Loan Shark Female Lea...   \n",
       "3031  ['YouTuber Female Lead', 'Chef Male Lead', 'Yo...   \n",
       "\n",
       "                                             genres  \\\n",
       "0                       ['Life', 'Drama', 'Family']   \n",
       "1      ['Friendship', 'Romance', 'Life', 'Medical']   \n",
       "2     ['Thriller', 'Romance', 'Crime', 'Melodrama']   \n",
       "3      ['Friendship', 'Romance', 'Life', 'Medical']   \n",
       "4      ['Psychological', 'Life', 'Drama', 'Family']   \n",
       "...                                             ...   \n",
       "3027                    ['Comedy', 'Life', 'Drama']   \n",
       "3028        ['Thriller', 'Law', 'Drama', 'Medical']   \n",
       "3029         ['Business', 'Life', 'Youth', 'Drama']   \n",
       "3030               ['Drama', 'Family', 'Melodrama']   \n",
       "3031                                    ['Romance']   \n",
       "\n",
       "                                                 actors  \\\n",
       "0     ['Lee Je Hoon', 'Tang Jun Sang', 'Hong Seung H...   \n",
       "1     ['Jo Jung Suk', 'Yoo Yeon Seok', 'Jung Kyung H...   \n",
       "2     ['Lee Joon Gi', 'Moon Chae Won', 'Jang Hee Jin...   \n",
       "3     ['Jo Jung Suk', 'Yoo Yeon Seok', 'Jung Kyung H...   \n",
       "4     ['Lee Sun Kyun', 'IU', 'Park Ho San', 'Song Sa...   \n",
       "...                                                 ...   \n",
       "3027  ['Yoon Doo Joon', 'Kwak Do Won', 'Han Go Eun',...   \n",
       "3028  ['So Ji Sub', 'Shin Sung Rok', 'Im Soo Hyang',...   \n",
       "3029  ['Kim Ji Hoon', 'Moon Kang Hyuk', 'Oh Se Young...   \n",
       "3030  ['Cha Ye Ryun', 'Lee Hyun Jin', 'Na Young Hee'...   \n",
       "3031                   ['Lee Su Jeong', 'Kim Kwan Soo']   \n",
       "\n",
       "                          director     screenwriter  \n",
       "0                     Kim Sung Ho     Yoon Ji Ryun   \n",
       "1                     Shin Won Ho     Lee Woo Jung   \n",
       "2     Kim Chul Gyu,  Yoon Jong Ho     Yoo Jung Hee   \n",
       "3                     Shin Won Ho     Lee Woo Jung   \n",
       "4      Kim Won Suk,  Kim Sang Woo   Park Hae Young   \n",
       "...                            ...              ...  \n",
       "3027                 Choi Do Hoon     Son Geun Joo   \n",
       "3028                Lee Yong Seok   Jang Hong Chul   \n",
       "3029                           NaN              NaN  \n",
       "3030                   Uh Soo Sun      Kim Min Joo   \n",
       "3031                           NaN              NaN  \n",
       "\n",
       "[3032 rows x 7 columns]"
      ]
     },
     "execution_count": 2,
     "metadata": {},
     "output_type": "execute_result"
    }
   ],
   "source": [
    "df"
   ]
  },
  {
   "cell_type": "code",
   "execution_count": 24,
   "metadata": {},
   "outputs": [],
   "source": [
    "from collections import Counter\n",
    "import plotly.express as px\n",
    "import numpy as np\n",
    "\n",
    "df_net = pd.read_csv('/Users/johnkim/Desktop/netflix_titles.csv')"
   ]
  },
  {
   "cell_type": "code",
   "execution_count": 25,
   "metadata": {},
   "outputs": [],
   "source": [
    "\n",
    "\n",
    "# dealing with missing values by replacement\n",
    "df_net['country'] = df_net['country'].fillna(df_net['country'].mode()[0])\n",
    "df_net['cast'].replace(np.nan, 'No Data', inplace  = True)\n",
    "df_net['director'].replace(np.nan, 'No Data', inplace  = True)\n",
    "\n",
    "# drop NA\n",
    "df_net.dropna(how = 'any', inplace=True)\n",
    "\n",
    "# drop Duplicates\n",
    "df_net.drop_duplicates(inplace= True)\n",
    "\n",
    "df_tv=df[df['type']=='TV Show']\n"
   ]
  },
  {
   "cell_type": "code",
   "execution_count": 28,
   "metadata": {},
   "outputs": [
    {
     "name": "stdout",
     "output_type": "stream",
     "text": [
      "['South Africa', 'United States', 'United States', 'India', 'United States', 'United Kingdom', 'United States', 'United States', 'United States', 'United States', 'Mexico', 'United States', 'United States', 'Turkey', 'Australia', 'United States', 'United Kingdom', 'United States', 'United States', 'Finland', 'India', 'United States', 'United States', 'Nigeria', 'India', 'United States', 'United Kingdom', 'India', 'United States', 'India', 'United States', 'United Kingdom', 'United States', 'Japan', 'United States', 'United States', 'United States', 'United States', 'United States', 'Belgium', 'United States, United Kingdom', 'United States', 'United Kingdom', 'France, United States', 'United States', 'United States', 'South Korea', 'United States', 'Australia', 'Spain', 'United States', 'United States, Singapore', 'Australia', 'United States', 'United States', 'South Korea', 'United States', 'United States', 'United States', 'United States', 'Russia', 'Japan', 'United States', 'United States', 'United States', 'United States', 'United States', 'United States', 'United States', ', South Korea', 'United States', 'United States', 'Nigeria', 'Ireland', 'United States', 'United States', 'Japan', 'United States', 'United States', 'United States', 'United States', 'United States', 'United States', 'United States', 'United States', 'United States', 'United States', 'United States', 'United States', 'United States', 'United States', 'United States', 'United States', 'Japan', 'India', 'Italy', 'United States', 'United States', 'France', 'United States', 'Argentina', 'Spain', 'Jordan', 'United States', 'United States', 'United States', 'Colombia', 'South Korea', 'Japan', 'Israel, United States', 'India', 'United States', 'United States', 'Mexico', 'United States', 'Taiwan', 'Taiwan', 'Taiwan', 'United States', 'Taiwan', 'Taiwan', 'United States', 'Italy', 'United States', 'United States', 'Japan', 'United States', 'United States', 'United Kingdom', 'United States', 'United States', 'United States', 'United States', 'United States', 'United States', 'United States', 'United States', 'Germany', 'United States, Canada', 'United States', 'United States', 'Canada, United States', 'United States', 'United States', 'United States', 'Spain', 'United States', 'United States', 'United States', 'United States', 'Argentina', 'United States', 'United States', 'United States, Canada', 'United States', 'Japan', 'South Korea', 'United States', 'United States', 'United States', 'United States', 'United States', 'Germany', 'United States', 'United States', 'United States', 'United States', 'United States, Japan', 'United States', 'United States', 'Poland', 'United States', 'United States', 'Canada', 'United States', 'France, Belgium', 'United States', 'United Kingdom', 'United Kingdom', 'Thailand', 'Japan', 'United Kingdom', 'United States', 'Canada', 'Russia', 'United Kingdom', 'Japan', 'United States, Canada', 'United States', 'Ireland, United States, United Kingdom', 'United States', 'United States', 'Israel', 'Canada', 'Australia', 'Japan', 'United Kingdom', 'Australia, New Zealand', 'United Kingdom, Germany', 'Belgium, Netherlands', 'Canada', 'South Korea', 'United States', 'United States', 'United States', 'United States', 'France', 'Australia, Germany', 'United States', 'United States', 'United States', 'United States', 'United States', 'Sweden', 'United States', 'United States', 'Mexico', 'United States', 'China', 'United States', 'Japan', 'United States', 'United States', 'United States', 'United States', 'Japan', 'United States', 'United States', 'United States', 'United States', 'United States', 'Thailand', 'United States', 'France', 'United States', 'United States', 'Spain', 'Finland, Germany', 'United States', 'United States', 'United States', 'Spain', 'Argentina', 'United States', 'Japan', 'United States', 'Canada, United States', 'United States', 'Thailand', 'United States', 'United Kingdom', 'Australia', 'Spain', 'South Korea', 'United States', 'United States', 'Canada, United States', 'United States', 'Iceland', 'United States', 'Turkey', 'United States', 'United States', 'Argentina', 'United States', 'United States', 'United States', 'United States', 'United States', 'United States', 'United States', 'United States', 'United States', 'South Korea', 'Denmark', 'France, United States', 'Philippines, Singapore, Indonesia', 'Colombia', 'United States', 'United States', 'United States', 'Colombia', 'United Kingdom', 'United States', 'United States', 'Japan', 'United States', 'Italy', 'Japan', 'United Kingdom', 'United States', 'United Kingdom', 'United States', 'Japan', 'United States', 'United States, Canada', 'United Arab Emirates', 'United States', 'United States', 'United States', 'United States', 'Israel', 'United States', 'Norway, Denmark', 'United States', 'Japan', 'United States', 'United States', 'United States', 'Spain', 'United States', 'Canada, United States', 'Mexico', 'United Kingdom', 'India', 'United States', 'United States, Czech Republic', 'United States', 'South Korea', 'United States', 'United States', 'United States', 'United States', 'United States', 'South Korea', 'United States', 'India', 'India', 'United States', 'Mexico, United States', 'United States', 'United States', 'United States', 'United States', 'United States', 'United States', 'United States', 'United States', 'United States', 'United States', 'Poland', 'Turkey', 'Thailand', 'United States', 'Australia, United Kingdom', 'Italy', 'Australia', 'Mexico', 'France, United Kingdom', 'United States', 'South Korea', 'United States', 'Japan', 'United States', 'United States', 'Japan', 'United States', 'Lebanon', 'United States, France', 'China, United Kingdom', 'Japan', 'United States', 'United States', 'Italy, United Kingdom', 'United States', 'United States, India', 'United States', 'South Korea', 'United States', 'South Korea', 'Canada', 'Thailand', 'United States', 'United States, Brazil, Japan, Spain, India', 'Israel, United States', 'United States', 'United States', 'China', 'Japan', 'India', 'United States', 'United States', 'United States', 'Uruguay, Germany', 'United Kingdom', 'United States', 'United Kingdom', 'United States', 'United States, Mexico', 'South Korea', 'Japan', 'United States', 'United States', 'Spain', 'United Kingdom', 'United States', 'Japan', 'South Korea', 'South Korea', 'United States, Japan', 'United States', 'United States', 'United Kingdom', 'Japan', 'Belgium', 'United States', 'Egypt', 'United States, United Kingdom', 'United Kingdom', 'South Korea', 'United States', 'United Kingdom', 'France', 'United States', 'United States', 'Germany', 'India', 'Egypt', 'United States', 'Spain', 'United States', 'United States, Australia', 'United States', 'United States', 'United States', 'Japan', 'United States, Colombia', 'United States, Colombia', 'United States', 'United States', 'United States', 'United States', 'United States', 'India', 'South Korea', 'India', 'Germany', 'South Korea', 'South Korea', 'United States', 'United States', 'United Kingdom', 'United States', 'United States', 'United Kingdom', 'United States', 'United States', 'United States', 'United Kingdom', 'Luxembourg', 'Mexico', 'United States', 'United States', 'United States', 'United States', 'Spain', 'Brazil', 'United States', 'Colombia', 'United States', 'United States', 'Canada', 'United States', 'United States', 'Philippines', 'United States', 'Canada, United States, France', 'United States', 'France', 'United States', 'Turkey', 'United States', 'United States', 'United States, United Kingdom', 'Canada', 'South Korea', 'Japan', 'Mexico', 'United States', 'United States', 'United States', 'United States', 'United States', 'United States', 'United States, Canada', 'United States', 'United Kingdom', 'United Kingdom', 'India', 'United States', 'Spain', 'United States', 'United States', 'Mexico, United States', 'United States', 'United States', 'United States', 'United States', 'United States', 'United States', 'Mexico', 'United States', 'Canada, United Kingdom, United States', 'United States', 'United States', 'United States', 'United States', 'Denmark, United States', 'Italy', 'United Kingdom', 'United States', 'South Korea', 'Senegal', 'India', 'United States', 'South Korea', 'United States', 'United Kingdom, Finland, Germany, United States, Australia, Japan, France, Ireland', 'United Kingdom', 'South Africa', 'Norway', 'India', 'Netherlands', 'South Korea', 'United States', 'Brazil', 'United States', 'South Africa', 'United States, Japan', 'Japan', 'United Kingdom', 'United States', 'United States', 'United States', 'United States', 'United States', 'United Kingdom, Canada, United States', 'United States', 'Lebanon', 'France', 'Spain', 'Japan', 'United States', 'Saudi Arabia', 'Egypt', 'United States', 'United States', 'United States', 'Kuwait', 'United States', 'South Korea', 'United States', 'France', 'Taiwan', 'India', 'United States', 'South Africa', 'United States', 'United Kingdom', 'Indonesia', 'United States', 'Spain, Italy', 'United States', 'United States, Ireland, United Kingdom, India', 'United Kingdom, Singapore', 'United States, Canada', 'United States', 'South Korea', 'United States', 'United Kingdom', 'South Korea', 'India', 'Australia', 'Germany', 'United States', 'Japan', 'Nigeria', 'Egypt', 'South Korea', 'China', 'United States', 'India', 'United States', 'United States', 'United States', 'United States', 'United States', 'Japan', 'Canada, United States, Ireland', 'United States', 'United Kingdom, United States', 'United States', 'Spain', 'Turkey', 'South Korea', 'Brazil', 'Australia', 'United States', 'United States', 'United States', 'United States', 'United States', 'Japan, Canada, United States', 'United States', 'Australia', 'Argentina', 'Egypt', 'Sweden', 'Canada', 'United States', 'United States', 'United States', 'United States', 'United States', 'United States', 'Canada', 'Denmark, Singapore, Canada, United States', 'United States, France, Denmark', 'France, United States', 'South Korea', 'South Korea', 'Brazil', 'Australia', 'United States', 'United States', 'United States', 'Italy', 'United States', 'United States', 'Taiwan', 'Germany', 'United States', 'Spain', 'United States', 'United States', 'United States', 'South Korea', 'United States', 'France', 'Mexico, Spain', 'United States', 'United Kingdom', 'United States', 'United States', 'United States', 'United States', 'United States', 'United States', 'United States', 'United States', 'South Korea', 'South Korea', 'United States, Canada', 'Russia', 'India', 'United States', 'United States', 'United States', 'United States', 'Australia', 'United States', 'South Korea', 'Japan', 'Brazil', 'United States', 'Germany, Czech Republic', 'Argentina', 'Japan', 'United States', 'United States', 'Mexico', 'Japan', 'United States', 'Australia', 'United States', 'United States', 'United States', 'Germany', 'United States', 'United States', 'South Korea', 'United States', 'United States', 'United States', 'United States', 'United States', 'United States', 'United States', 'Germany', 'Italy', 'United States', 'United Kingdom, France, Germany, Spain', 'Poland', 'United States', 'United Kingdom', 'United States', 'United Kingdom, China', 'France', 'United States', 'Spain', 'United Kingdom', 'United States', 'United States', 'United States', 'Spain', 'South Korea', 'United States', 'Australia, New Zealand, United States', 'United States', 'United States', 'United Kingdom', 'United States', 'United States', 'Japan', 'United States', 'Denmark', 'Japan', 'United States', 'France', 'France, Australia, Germany', 'United States', 'Japan', 'United Kingdom', 'United Kingdom, United States', 'India', 'Japan', 'Colombia', 'United States', 'United States', 'United States', 'United States', 'Nigeria', 'United States', 'Canada', 'South Korea', 'United States', 'United States', 'United States', 'South Korea', 'United States', 'Denmark', 'Saudi Arabia', 'Brazil', 'United States', 'Colombia', 'United States', 'Japan', 'United States', 'United States', 'Japan', 'Nigeria', 'Spain', 'United States', 'Germany', 'United States', 'United States', 'United States', 'Canada', 'Denmark, United States', 'United States', 'Brazil', 'United States', 'United States', 'Canada', 'Japan', 'Canada', 'Japan', 'United States', 'United Kingdom', 'United States', 'United States, Canada', 'United States', 'United States', 'United States', 'United States', 'Spain', 'United States', 'United States', 'Norway', 'United States', 'United Kingdom', 'France', 'Australia', 'United Kingdom, Australia', 'United States', 'Brazil', 'Mexico', 'United States', 'Belarus', 'United States', 'Brazil', 'United States', 'United States', 'Belgium', 'Japan', 'Turkey', 'South Korea', 'Australia', 'Thailand', 'India', 'Spain', 'Japan', 'United States', 'United States', 'United States', 'United States', 'United Kingdom', 'Taiwan', 'United States, Canada', 'United States', 'France', 'Japan', 'Chile, Italy', 'Germany, United States', 'Colombia', 'United States', 'South Korea', 'United Kingdom', 'United States', 'South Korea', 'United States', 'United States', 'Brazil', 'United States', 'United States', 'United States', 'United States', 'United States', 'United States', 'United States, France, Canada', 'Germany', 'Japan', 'Mexico', 'Poland, United States', 'Italy', 'United States', 'United States', 'South Korea', 'Brazil', 'United States, Mexico, Spain, Malta', 'United States', 'United States', 'United States, Canada', 'Japan', 'United States', 'Japan', 'South Korea', 'Japan', 'Japan', 'South Korea', 'South Korea', 'United States', 'Ireland', 'Japan', 'Australia', 'United States', 'India', 'United States', 'United Kingdom', 'Canada', 'South Korea', 'United States', 'Colombia', 'United States', 'United States', 'United Kingdom', 'United States', 'South Korea', 'South Korea', 'United States', 'France', 'United States', 'United States', 'Japan', 'United States', 'Thailand', 'South Korea', 'Australia', 'United Kingdom, Spain', 'Canada', 'Finland, France', 'United States', 'United States', 'Canada', 'United Kingdom, Germany, United States, France', 'Canada', 'China', 'Argentina', 'United States', 'United States', 'United States', 'United States', 'United States', 'Russia', 'Italy, United Kingdom, France', 'Japan', 'Canada', 'Australia, United States', 'Japan', 'United States, Mexico, Colombia', 'United States, Canada', 'Japan', 'Taiwan', 'South Korea', 'United Kingdom', 'South Africa', 'United States', 'United Kingdom', 'South Korea', 'United States', 'United Kingdom', 'United States', 'Turkey', 'Japan, United States', 'Mexico', 'United States', 'United Kingdom', 'Japan', 'United States', 'Puerto Rico, United States, Colombia', 'United States', 'United States', 'India', 'South Korea', 'United States', 'Mexico', 'India', 'France', 'Israel', 'United States', 'United States', 'Italy', 'Japan', 'United States', 'Chile', 'United States', 'United States', 'United States', 'United Kingdom', 'United States', 'Japan', 'United Kingdom', 'United States', 'United Kingdom', 'China', 'India', 'United States', 'United States', 'South Korea', 'United States', 'India', 'United States', 'United States', 'United States', 'Germany', 'Austria, Germany', 'Taiwan, China', 'United States', 'United States', 'United States, Japan', 'United States', 'United States', 'India', 'United Kingdom', 'United Kingdom', 'United States', 'France', 'Sweden', 'Netherlands', 'United Kingdom, United States, Ireland', 'United States', 'United States', 'United States', 'Norway', 'South Korea, United States', 'Iceland', 'United States', 'United States', 'Brazil, United Kingdom', 'United States', 'India', 'Spain', 'Japan', 'Germany', 'United States', 'Colombia', 'South Africa', 'Spain', 'Mexico', 'United States', 'Japan', 'Saudi Arabia', 'United States', 'United States', 'South Korea', 'Canada', 'United States', 'South Korea', 'United States', 'Argentina', 'Brazil', 'United States', 'Nigeria', 'Cyprus', 'India', 'United States', 'Mexico, United States', 'United States', 'Thailand', 'United States', 'United States', 'United States', 'Nigeria', 'Canada, United States', 'United States', 'United States', 'Japan', 'United States', 'United States', 'United States', 'Japan', 'South Korea', 'France, South Korea, Japan, United States', 'Japan', 'Japan', 'United States', 'Mexico', 'Italy', 'Spain', 'Japan', 'United Kingdom', 'United States', 'United States', 'United Kingdom', 'Brazil', 'United States', 'Nigeria', 'United States', 'United States', 'United States', 'Japan', 'Taiwan, Malaysia', 'United States', 'United States', 'United States', 'Netherlands', 'Canada', 'Germany', 'United States', 'China', 'Japan', 'United States', 'France', 'United States', 'United States', 'United Kingdom', 'United States', 'India', 'United States', 'Australia', 'France', 'United States', 'United Kingdom', 'Canada', 'United States', 'Belgium', 'South Korea', 'Canada', 'Japan', 'United States', 'South Korea', 'United States', 'Netherlands, Germany, Italy, Canada', 'Spain, Germany, Denmark, United States', 'South Korea', 'South Korea', 'United States', 'South Korea', 'Japan', 'Norway, Sweden', 'United States', 'South Korea, Canada, United States, China', 'South Korea', 'United States', 'China', 'Japan', 'United States', 'France', 'United States', 'Japan', 'United States', 'United States', 'Mauritius, South Africa', 'United States, Poland', 'France', 'Poland', 'United Kingdom, United States', 'United States', 'South Korea', 'United States', 'South Korea', 'Nigeria', 'Japan', 'United States', 'United States', 'United States', 'United States', 'Japan', 'Brazil', 'United States', 'Spain', 'United States', 'United States', 'United States', 'China', 'Colombia', 'United States', 'United States', 'United States', 'South Korea', 'United Kingdom, Canada', 'Mexico, United States, Spain, Colombia', 'United States', 'Japan', 'Brazil', 'United States', 'France', 'Poland', 'Mexico', 'China', 'United States', 'United States', 'United States', 'Brazil', 'Singapore, United States', 'United States, Canada', 'United States', 'Thailand', 'Germany', 'France', 'United States', 'Taiwan', 'Taiwan', 'United States', 'South Korea', 'Japan', 'Taiwan', 'United States', 'Taiwan', 'South Korea', 'Mexico', 'Thailand', 'United States', 'Turkey', 'United States', 'Thailand', 'Argentina, United States, Mexico', 'South Korea', 'China', 'India', 'United Kingdom', 'United Kingdom, Canada, United States', 'Colombia', 'Japan', 'United States', 'United Kingdom', 'United Kingdom', 'United States', 'United States', 'United States', 'United States', 'France', 'United States', 'Japan', 'Japan', 'Japan', 'Japan', 'Japan', 'United States, Japan', 'United States', 'Canada, Australia', 'Argentina, Spain', 'Germany', 'United States, Japan', 'Taiwan', 'United States', 'South Korea', 'South Korea', 'United States', 'United States', 'China', 'China', 'United States', 'Brazil', 'Spain', 'Argentina', 'France', 'Spain', 'China', 'United States', 'United States', 'United States', 'United Kingdom', 'United Kingdom', 'India', 'United States', 'United States', 'Netherlands', 'China', 'Australia', 'South Korea', 'South Korea', 'Turkey', 'South Korea', 'United States', 'France', 'United States', 'Japan', 'United States', 'Mexico', 'South Korea', 'United Kingdom, Canada', 'United Kingdom', 'United States', 'United States', 'United States', 'United States', 'United States', 'South Korea', 'South Korea', 'India', 'India', 'India', 'India', 'South Korea', 'South Korea', 'South Korea', 'United States', 'India', 'Argentina', 'Mexico', 'United States', 'Australia', 'South Korea', 'United States', 'Germany', 'Spain', 'United States', 'United States', 'Spain', 'South Korea', 'United States', 'Japan', 'France', 'United States', 'United States', 'United States', 'United States', 'France', 'United States', 'United States', 'Japan', 'United Kingdom', 'China, United Kingdom', 'United States', 'United Kingdom, United States', 'Colombia', 'United States, Canada', 'United Kingdom', 'United States', 'United States', 'United States', 'Spain', 'Argentina', 'Russia', 'United States', 'Colombia', 'United States', 'China', 'Spain', 'United States, Japan', 'India, United States', 'Taiwan', 'United States', 'United States', 'United States', 'United States', 'United States', 'Brazil', 'United States', 'South Korea', 'Lebanon', 'United States', 'Malaysia, Singapore, Hong Kong', 'South Korea', 'South Korea', 'South Korea', 'South Korea', 'South Korea', 'United States', 'United States', 'United States', 'Thailand', 'Australia', 'United States', 'South Korea', 'United States', 'Australia, Canada', 'Hong Kong', 'United States', 'United States', 'India', 'South Korea', 'United States', 'China', 'Japan', 'Japan', 'Japan', 'Japan', 'United States', 'Sweden', 'United States', 'South Korea', 'United States', 'United States', 'United States', 'China', 'United States', 'United States', 'United States', 'Australia', 'Thailand', 'Thailand', 'South Korea', 'United States', 'United States', 'France', 'France', 'Japan', 'United States', 'United States', 'United States', 'Australia', 'Australia, United States', 'Spain', 'United States', 'Japan', 'Colombia', 'United States', 'Argentina', 'Japan', 'Japan', 'United States', 'New Zealand', 'United States', 'Japan', 'Japan', 'Japan', 'China', 'Spain', 'Belgium', 'United States', 'France, Belgium', 'United States', 'United States', 'India', 'United States', 'United States', 'Mexico', 'Jordan', 'Malaysia', 'United States', 'United States', 'United States', 'United Kingdom', 'United States', 'United States', 'South Korea', 'Taiwan', 'Japan', 'Canada', 'United States', 'United States', 'United States', 'United States', 'United States', 'United States', 'United States', 'Mexico', 'Mexico', 'United States', 'United Kingdom', 'United Kingdom', 'Argentina', 'United States', 'Japan', 'China, Hong Kong', 'United States', 'United States', 'Brazil', 'China', 'United States', 'United States', 'United States', 'United States', 'United States', 'United States', 'United States', 'United States', 'United States', 'United States', 'South Korea', 'United States', 'Kuwait', 'Lebanon', 'United States', 'Mexico', 'Canada, Brazil', 'United Kingdom', 'United States', 'Japan', 'Taiwan', 'Hong Kong', 'Japan', 'United States', 'Taiwan', 'United States', 'Taiwan', 'United States', 'Mexico, United States', 'United States', 'United States', 'United States', 'Taiwan', 'Australia', 'Taiwan', 'Japan, United States', 'Brazil', 'United States', 'United States', 'United States', 'South Korea', 'United States', 'United States', 'United Kingdom', 'United States', 'United States, United Kingdom', 'Sweden', 'Malaysia', 'Canada, United States', 'United States', 'Mexico', 'South Korea', 'Lebanon', 'United States', 'South Korea', 'United States, Japan', 'United Kingdom', 'France', 'United States', 'United States', 'United Kingdom', 'France, Canada', 'Japan', 'United States', 'United States', 'Mexico', 'India', 'United States', 'United States', 'Canada', 'Japan', 'United States', 'Japan', 'Taiwan', 'Spain', 'United States', 'United Kingdom', 'United States', 'United Kingdom', 'Egypt', 'Egypt', 'Egypt', 'Egypt', 'United States', 'United States', 'Egypt', 'Turkey', 'United States', 'United States', 'Australia', 'South Korea', 'India', 'United States', 'United States', 'Canada', 'Japan', 'United States', 'United States', 'United Kingdom', 'Brazil', 'Denmark', 'United States', 'United States', 'Argentina', 'United States, Canada', 'Spain', 'Taiwan', 'Belgium', 'United States', 'Egypt', 'Egypt', 'South Korea', 'United Kingdom', 'Egypt', 'Japan', 'South Korea', 'United States', 'United States', 'Russia', 'Japan', 'United States', 'Taiwan', 'United States', 'United Kingdom', 'Mexico', 'Spain', 'United States', 'United States', 'Turkey', 'United States', 'United States', 'United Kingdom', 'United States', 'Taiwan', 'Taiwan', 'United States', 'United States', 'Ireland', 'United Kingdom', 'Spain, United Kingdom', 'Israel', 'United States', 'United States', 'United States', 'United States', 'Croatia', 'United States', 'United States', 'Thailand', 'Israel', 'United States', 'India', 'United States', 'Taiwan', 'United Kingdom, Ireland, United States', 'United States', 'United Kingdom', 'United States', 'United States', 'Taiwan', 'Japan', 'Taiwan', 'Taiwan', 'Germany', 'Japan', 'Turkey', 'Japan', 'United States', 'China', 'United States', 'United Kingdom', 'South Korea', 'United States', 'United States', 'United States', 'Australia', 'Canada, United States', 'United States', 'Japan', 'Germany', 'United States', 'Australia', 'South Korea', 'South Korea', 'United States', 'Poland, United States', 'United States', 'Japan', 'United States, Canada', 'United States', 'United States, Sweden', 'Canada', 'Spain', 'United Kingdom', 'United States', 'United States', 'United States', 'United States', 'China', 'United States, Mexico', 'United States', 'Canada', 'Brazil', 'United States', 'Denmark', 'Germany, France, Russia', 'United States', 'Brazil', 'Colombia', 'South Korea, United States', 'United States', 'France, Belgium', 'United States', 'Malaysia', 'United States', 'Argentina', 'United States', 'United States', 'Japan', 'United States, Czech Republic', 'United States', 'United States', 'China', 'United States', 'China', 'Australia', 'United States', 'United States', 'United States', 'Thailand', 'United Kingdom', 'Canada', 'Australia', 'United Kingdom', 'United States', 'United States', 'United States', 'United States', 'United States', 'United States', 'Brazil', 'United States', 'United States', 'Czech Republic, United States', 'Japan', 'South Korea', 'United States', 'United Kingdom', 'United Kingdom', 'United Kingdom, West Germany', 'United Kingdom', 'United States, United Kingdom', 'United States', 'United States', 'United Kingdom', 'United States', 'Canada', 'South Korea, United States', 'United States', 'Japan', 'United States', 'United States', 'Japan', 'Canada, United States', 'Lebanon', 'United States', 'United States', 'Mexico', 'United States', 'United States', 'China', 'South Korea', 'United States', 'United States', 'United States', 'United States', 'United States', 'United States', 'United States', 'United States', 'Thailand', 'United States', 'Taiwan', 'Australia', 'Spain', 'United States, Czech Republic', 'United States', 'United States, Brazil, South Korea, Mexico, Japan, Germany', 'United States', 'Colombia', 'United States', 'India', 'China', 'United Kingdom', 'United States', 'Australia', 'United States', 'United States', 'United States', 'United States', 'Taiwan', 'Spain', 'United States', 'Mexico', 'Japan', 'Japan', 'France', 'Japan', 'Australia', 'Mexico, United States', 'Japan', 'Spain', 'United Kingdom', 'New Zealand', 'United States', 'Japan', 'Canada, United States', 'United States', 'United States', 'China', 'Israel', 'United Kingdom', 'United States', 'South Korea', 'United States', 'United States', 'United States', 'United Kingdom', 'United Kingdom, United States', 'United States, Canada', 'Brazil', 'United States', 'United States', 'United States', 'United States', 'United States', 'France', 'United States', 'Japan', 'France', 'United States', 'United States', 'United States', 'South Korea', 'United States, Mexico', 'Japan', 'United States', 'Canada, United States, France', 'Japan', 'United States', 'United States', 'United States', 'United States', 'United States, Japan, Canada', 'France', 'United States', 'Saudi Arabia, Syria, Egypt, Lebanon, Kuwait', 'United States', 'United States', 'United States', 'United States', 'United States', 'Germany', 'France', 'United States', 'United States', 'Philippines', 'United Kingdom, South Africa, Australia, United States', 'France', 'United States', 'Sweden', 'United Kingdom', 'United Kingdom', 'United States', 'Canada', 'United Kingdom', 'United Kingdom', 'United Kingdom', 'United States', 'Argentina', 'United States', 'Egypt', 'Belgium', 'Japan', 'Japan', 'United Kingdom, United States', 'South Korea', 'Norway, Germany, Sweden', 'United States', 'Canada', 'South Korea, China', 'France', 'United States', 'United Kingdom', 'United Kingdom', 'United States', 'United States', 'Japan', 'United States', 'United States', 'United States', 'United Kingdom', 'United States', 'South Korea', 'United States, New Zealand', 'Japan', 'Spain', 'Japan', 'United States', 'United States', 'United Kingdom, United States', 'Japan', 'Japan', 'Japan', 'United Kingdom', 'Japan', 'France', 'United States', 'France', 'United States', 'United States', 'United Kingdom', 'Australia, United States', 'Canada, Germany, South Africa', 'South Korea', 'United States', 'United States', 'United States', 'United States', 'United States', 'Malaysia', 'Japan', 'France', 'United States', 'United States', 'United Kingdom', 'United Kingdom', 'Japan', 'United States', 'United States', 'South Korea', 'United States', 'United States', 'United States', 'United States', 'Japan', 'Russia', 'Japan', 'Japan', 'United States', 'Japan', 'United States', 'United States', 'Canada', 'United States', 'United States', 'United States', 'United States', 'Singapore', 'United States', 'Canada, United States', 'United Kingdom', 'United States', 'United States', 'United States', 'United States', 'France', 'United States', 'Japan', 'China', 'Japan', 'United States, Canada', 'United States', 'France, United Kingdom, United States', 'United States', 'United States', 'Singapore', 'Singapore', 'Taiwan', 'United Kingdom', 'United States', 'United Kingdom', 'United States', 'United States', 'United States, Japan', 'Canada', 'United States', 'Australia', 'Spain', 'United States', 'United States', 'United States', 'United States', 'United States', 'Taiwan', 'Taiwan', 'Japan', 'Japan', 'United States', 'United States', 'United States, Colombia, Mexico', 'United States', 'United States', 'Turkey', 'Japan', 'United States', 'Singapore', 'Taiwan', 'South Korea', 'Russia', 'United States', 'Taiwan', 'Russia', 'United States', 'United States', 'Singapore', 'United Kingdom', 'United Kingdom', 'United Kingdom', 'United States', 'United States', 'United States', 'Canada', 'China', 'China', 'China', 'China', 'Turkey', 'Singapore', 'United States, Canada', 'United States', 'Turkey', 'United Kingdom', 'Singapore', 'United States', 'Singapore', 'Singapore', 'Singapore', 'Singapore', 'Singapore', 'Singapore', 'Singapore', 'United States, Canada', 'United States, United Kingdom', 'Japan', 'United States', 'United States, Japan, Canada', 'United States', 'Italy, United States', 'South Korea', 'South Korea', 'South Korea', 'South Korea', 'China', 'South Korea', 'South Korea', 'United Kingdom', 'United States', 'Singapore', 'United States', 'United States', 'Denmark', 'Singapore', 'United States', 'Thailand', 'United States', 'United States', 'Australia', 'South Korea', 'South Korea', 'South Korea', 'Spain', 'Canada', 'United States', 'United States', 'United States', 'South Korea', 'United States', 'Turkey', 'United States', 'United Kingdom', 'United States, United Kingdom, Australia', 'United States', 'Japan', 'United States', 'Australia', 'Japan', 'United States', 'United States', 'South Korea', 'United Kingdom', 'South Korea', 'Mexico', 'South Korea', 'Turkey', 'South Korea', 'South Korea', 'South Korea', 'South Korea', 'Japan', 'United States', 'United States', 'South Korea', 'Japan', 'United States', 'United States', 'United Kingdom', 'South Korea', 'South Korea', 'South Korea', 'South Korea', 'China', 'South Korea', 'Japan', 'South Korea', 'United Kingdom', 'South Korea', 'Canada, Japan, Netherlands', 'United Kingdom', 'United States', 'Taiwan', 'France, Germany', 'United States', 'Canada', 'Taiwan', 'Taiwan', 'Taiwan', 'United States', 'Colombia', 'United Kingdom', 'France', 'Iceland', 'United Kingdom', 'Taiwan', 'Taiwan', 'Taiwan', 'Taiwan', 'Taiwan', 'Taiwan', 'Canada', 'United States', 'Japan', 'United Kingdom, France', 'Japan', 'United States', 'Taiwan', 'Taiwan', 'Taiwan', 'Taiwan', 'United States, Russia', 'Taiwan', 'United States', 'Taiwan', 'Taiwan', 'United States', 'United States', 'United States', 'United Kingdom', 'United Kingdom', 'United States', 'Taiwan', 'United Kingdom', 'Japan', 'United States', 'United Kingdom', 'United Kingdom', 'United Kingdom', 'Colombia', 'United States', 'United States, France', 'Japan', 'United States', 'United States', 'Japan', 'Australia', 'Australia', 'Japan, United States', 'Canada', 'Japan', 'United States', 'Japan', 'United States', 'United States', 'United States', 'United States', 'United States', 'France', 'Japan', 'United States', 'United States', 'United States', 'United States', 'Germany, Australia, France, China', 'United Kingdom', 'France', 'Norway, United States', 'Canada', 'United States, Hungary, Ireland, Canada', 'United States, United Kingdom', 'United States', 'United States', 'United States', 'Turkey', 'United Kingdom', 'South Korea', 'India', 'India', 'United States', 'Taiwan', 'South Korea', 'United States', 'South Korea', 'United States', 'United Kingdom', 'United Kingdom', 'United States', 'India', 'United Kingdom', 'United Kingdom', 'United States', 'United States', 'United States', 'United States', 'Taiwan', 'United States', 'India', 'India', 'Japan', 'Canada, France', 'Australia', 'United Kingdom', 'India', 'Chile', 'United States', 'Italy', 'United States', 'United States', 'United Kingdom', 'Russia', 'Canada', 'South Korea', 'Canada', 'United States', 'United States', 'Turkey', 'United States', 'United States', 'Japan', 'India', 'India', 'United States, France, Japan', 'United Kingdom', 'Canada', 'Spain', 'Turkey', 'Thailand', 'United Kingdom', 'United States', 'Australia', 'United States', 'United Kingdom', 'United Kingdom', 'United States', 'United States, Israel, Italy, South Africa', 'United States', 'United States', 'United States', 'United States', 'United States', 'United Kingdom', 'United Kingdom', 'South Korea', 'United States', 'Italy', 'Mexico, United States', 'Canada', 'South Korea', 'France', 'United States', 'Japan', 'United States', 'Canada', 'Australia', 'United States', 'South Korea', 'United Kingdom', 'United Kingdom', 'United States', 'United States', 'Malaysia', 'United Kingdom', 'United Kingdom', 'India', 'United Kingdom', 'United States', 'United States', 'United States', 'United States', 'United States', 'United States', 'United States', 'United States', 'United States', 'United States', 'United States', 'United States', 'Australia', 'France', 'United Kingdom', 'Australia', 'Mexico', 'United Kingdom', 'India', 'China', 'Taiwan', 'United States', 'Australia', 'India', 'United States', 'United States', 'Canada', 'United States', 'United States', 'United States, South Korea, China', 'United States', 'United States, Chile', 'Brazil', 'United Kingdom', 'United States', 'Taiwan', 'Spain', 'Colombia', 'Colombia', 'Mexico', 'United States', 'United States', 'United States', 'United States', 'United Kingdom', 'United States', 'United States', 'United Kingdom', 'China', 'United States', 'United Kingdom, United States', 'Turkey', 'Japan', 'United Kingdom', 'United States', 'United Kingdom', 'India', 'Turkey', 'United States', 'United States', 'South Korea', 'United States', 'United States', 'United States', 'United Kingdom', 'United Kingdom', 'Spain, Cuba', 'United States', 'United Kingdom, United States, Spain, Germany, Greece, Canada', 'India', 'United States', 'Taiwan', 'India', 'United Kingdom', 'United Kingdom', 'Sweden', 'Italy, Canada, France', 'United States', 'United States', 'United States', 'United States', 'Italy, Germany', 'Turkey', 'United States', 'United Kingdom', 'Spain', 'United Kingdom', 'United Kingdom', 'United States', 'United States', 'Taiwan', 'United Kingdom', 'United States', 'United Kingdom', 'Malaysia', 'United States', 'Indonesia', 'Canada, United States', 'Canada', 'United States, Canada', 'Canada, United Kingdom', 'Denmark', 'South Korea', 'Canada', 'United States', 'United Kingdom', 'Argentina', 'Australia', 'United States', 'Thailand', 'United Kingdom', 'Belgium', 'United States', 'Pakistan', 'United Kingdom', 'United States, Italy', 'United States', 'Mexico', 'United States', 'United States', 'Taiwan', 'United Kingdom', 'United Kingdom', 'United States', 'Israel', 'United Kingdom', 'Canada', 'Canada, United States, United Kingdom, France, Luxembourg', 'United Kingdom', 'South Korea', 'United States, Ireland', 'Japan', 'United States', 'United States', 'India', 'Russia', 'United Kingdom', 'Chile', 'Mexico', 'United States', 'Japan', 'Turkey', 'United States', 'United States', 'United States', 'Pakistan', 'India', 'India', 'India', 'United States', 'United States', 'United Kingdom', 'Japan', 'United States', 'United States', 'Turkey', 'United States', 'Mexico', 'Mexico', 'Colombia, Mexico, United States', 'Colombia', 'United Kingdom', 'South Korea', 'United Kingdom', 'United States', 'United States', 'Denmark', 'United States', 'Turkey', 'Canada', 'United States', 'United Kingdom', 'United Kingdom', 'United States', 'Spain', 'Mexico', 'South Korea, France', 'United Kingdom', 'United States', 'Colombia', 'Canada', 'Taiwan', 'South Korea', 'United States', 'United Kingdom', 'China', 'United States', 'Italy', 'Japan', 'India', 'India', 'India', 'Turkey, Azerbaijan', 'United States', 'United States', 'United States', 'United States', 'United Kingdom', 'United Kingdom', 'Australia', 'United States', 'United States', 'Spain', 'United States', 'India', 'United States', 'France', 'United States', 'Mexico', 'Taiwan', 'South Korea', 'United States', 'United Kingdom', 'Canada', 'United Kingdom', 'United Kingdom', 'Canada', 'United States', 'Spain', 'United Kingdom', 'United States', 'United Kingdom', 'United States', 'United Kingdom, United States', 'United States', 'United States, United Kingdom', 'United States, United Kingdom', 'United Kingdom', 'United Kingdom', 'United States', 'United States', 'Japan', 'Canada, United States', 'Norway', 'United Kingdom', 'Germany', 'United States', 'Japan', 'United States', 'United Kingdom', 'United States', 'Hong Kong', 'Canada', 'United States', 'France', 'United States', 'United Kingdom', 'United Kingdom', 'South Korea', 'United States', 'United States', 'Australia', 'United States', 'Canada', 'United States', 'Colombia, United States', 'United States', 'United States', 'Ireland, United Kingdom, United States', 'United States', 'United States', 'United Kingdom', 'United Kingdom', 'United States', 'India', 'United States', 'United States', 'United States', 'United States', 'United States, France, Japan', 'United States', 'France, Japan, United States', 'United States, France, Japan', 'United States', 'United States, New Zealand', 'United States, New Zealand, Japan', 'United States', 'United States, New Zealand', 'United States', 'United States', 'United States', 'United States', 'United States, France, Japan', 'United States, Netherlands, Japan, France', 'United States, France, Japan', 'United States', 'United States', 'United States', 'Argentina', 'India', 'United States', 'Taiwan', 'United States', 'United States', 'United States', 'India', 'India', 'United States', 'Mexico', 'United States', 'United Kingdom', 'Canada', 'United States', 'United Kingdom', 'United States', 'United Kingdom, Ireland', 'India', 'United States, Japan', 'Thailand', 'United States', 'Mexico', 'Japan', 'United States', 'Pakistan', 'United States', 'United States', 'United States', 'South Korea', 'Canada', 'Ukraine', 'Israel', 'Italy, South Africa, West Germany, Australia, United States', 'United Kingdom, United States', 'United States', 'Russia', 'Colombia, Mexico, United States', 'United States, Colombia', 'United States', 'United States', 'United States', 'Thailand', 'United States', 'United States', 'United States', 'United States', 'Switzerland', 'United States, Canada', 'South Korea', 'United States', 'France, United States, Canada', 'South Korea', 'United States', 'South Korea', 'India', 'United States, South Korea, China', 'United Kingdom', 'United States', 'United States', 'United States', 'France, United States', 'United Kingdom, United States', 'Mexico', 'India', 'India', 'United States', 'United States', 'United States', 'United States', 'Singapore', 'United States', 'United States', 'Brazil', 'United Kingdom', 'United Kingdom', 'United Kingdom', 'United Kingdom', 'India', 'Australia', 'United Kingdom', 'South Korea', 'United States', 'Canada, Australia', 'Japan', 'Canada', 'United States', 'United Kingdom', 'United Kingdom', 'United States', 'United Kingdom, United States', 'Norway', 'India', 'United Kingdom', 'United Kingdom', 'United States', 'United States', 'India', 'United Kingdom', 'United Kingdom', 'United Kingdom', 'United States', 'United States', 'India, Germany, France', 'United States', 'Canada, United States', 'South Korea', 'United States', 'United States', 'United Kingdom, United States, Spain, Germany, Greece, Canada', 'United States', 'United States', 'France', 'Spain', 'United States', 'Sweden', 'United Kingdom', 'United States', 'United States', 'United States', 'Canada', 'United States', 'United Kingdom', 'France', 'Russia', 'United States', 'Ukraine', 'United States', 'United States', 'United States, Canada', 'United States', 'Ireland, Canada, United States, United Kingdom', 'United States', 'United States', 'United States', 'United States', 'United States', 'United States', 'China', 'Taiwan', 'Thailand', 'South Korea', 'China', 'United States', 'United States', 'Germany, United States, Italy', 'United Kingdom', 'Canada', 'United Kingdom, United States, Czech Republic', 'United States', 'United States', 'Russia', 'United States', 'United Kingdom', 'Thailand', 'United States', 'United States', 'South Korea', 'United States', 'Poland', 'United States', 'United Kingdom', 'Turkey', 'Taiwan', 'United States', 'Taiwan', 'United Kingdom', 'United Kingdom', 'United States', 'Turkey', 'United States', 'United Kingdom', 'India', 'United States', 'United States', 'United States', 'Japan, Canada', 'Turkey', 'United States, France, South Korea, Indonesia', 'Pakistan', 'United States']\n"
     ]
    },
    {
     "data": {
      "application/vnd.plotly.v1+json": {
       "config": {
        "plotlyServerURL": "https://plot.ly"
       },
       "data": [
        {
         "coloraxis": "coloraxis",
         "geo": "geo",
         "hovertemplate": "label=%{location}<br>counts=%{z}<extra></extra>",
         "locationmode": "country names",
         "locations": [
          "South Africa",
          "United States",
          "India",
          "United Kingdom",
          "Mexico",
          "Turkey",
          "Australia",
          "Finland",
          "Nigeria",
          "Japan",
          "Belgium",
          "France",
          "South Korea",
          "Spain",
          "Singapore",
          "Russia",
          "",
          "Ireland",
          "Italy",
          "Argentina",
          "Jordan",
          "Colombia",
          "Israel",
          "Taiwan",
          "Germany",
          "Canada",
          "Poland",
          "Thailand",
          "New Zealand",
          "Netherlands",
          "Sweden",
          "China",
          "Iceland",
          "Denmark",
          "Philippines",
          "Indonesia",
          "United Arab Emirates",
          "Norway",
          "Czech Republic",
          "Lebanon",
          "Brazil",
          "Uruguay",
          "Egypt",
          "Luxembourg",
          "Senegal",
          "Saudi Arabia",
          "Kuwait",
          "Belarus",
          "Chile",
          "Malta",
          "Puerto Rico",
          "Austria",
          "Cyprus",
          "Malaysia",
          "Mauritius",
          "Hong Kong",
          "Croatia",
          "West Germany",
          "Syria",
          "Hungary",
          "Cuba",
          "Greece",
          "Pakistan",
          "Azerbaijan",
          "Ukraine",
          "Switzerland"
         ],
         "name": "",
         "type": "choropleth",
         "z": [
          11,
          1322,
          84,
          271,
          58,
          30,
          64,
          4,
          9,
          197,
          12,
          90,
          170,
          61,
          23,
          16,
          1,
          14,
          25,
          20,
          2,
          32,
          11,
          70,
          44,
          126,
          9,
          24,
          8,
          8,
          11,
          48,
          3,
          14,
          3,
          4,
          1,
          9,
          6,
          7,
          31,
          1,
          15,
          2,
          1,
          4,
          3,
          1,
          5,
          1,
          1,
          1,
          1,
          8,
          1,
          5,
          1,
          2,
          1,
          1,
          1,
          2,
          4,
          1,
          2,
          1
         ]
        }
       ],
       "layout": {
        "coloraxis": {
         "colorbar": {
          "title": {
           "text": "counts"
          }
         },
         "colorscale": [
          [
           0,
           "rgb(252, 222, 156)"
          ],
          [
           0.16666666666666666,
           "rgb(250, 164, 118)"
          ],
          [
           0.3333333333333333,
           "rgb(240, 116, 110)"
          ],
          [
           0.5,
           "rgb(227, 79, 111)"
          ],
          [
           0.6666666666666666,
           "rgb(220, 57, 119)"
          ],
          [
           0.8333333333333334,
           "rgb(185, 37, 122)"
          ],
          [
           1,
           "rgb(124, 29, 111)"
          ]
         ]
        },
        "geo": {
         "center": {},
         "domain": {
          "x": [
           0,
           1
          ],
          "y": [
           0,
           1
          ]
         },
         "projection": {
          "type": "kavrayskiy7"
         },
         "scope": "world"
        },
        "legend": {
         "tracegroupgap": 0
        },
        "template": {
         "data": {
          "bar": [
           {
            "error_x": {
             "color": "#2a3f5f"
            },
            "error_y": {
             "color": "#2a3f5f"
            },
            "marker": {
             "line": {
              "color": "#E5ECF6",
              "width": 0.5
             },
             "pattern": {
              "fillmode": "overlay",
              "size": 10,
              "solidity": 0.2
             }
            },
            "type": "bar"
           }
          ],
          "barpolar": [
           {
            "marker": {
             "line": {
              "color": "#E5ECF6",
              "width": 0.5
             },
             "pattern": {
              "fillmode": "overlay",
              "size": 10,
              "solidity": 0.2
             }
            },
            "type": "barpolar"
           }
          ],
          "carpet": [
           {
            "aaxis": {
             "endlinecolor": "#2a3f5f",
             "gridcolor": "white",
             "linecolor": "white",
             "minorgridcolor": "white",
             "startlinecolor": "#2a3f5f"
            },
            "baxis": {
             "endlinecolor": "#2a3f5f",
             "gridcolor": "white",
             "linecolor": "white",
             "minorgridcolor": "white",
             "startlinecolor": "#2a3f5f"
            },
            "type": "carpet"
           }
          ],
          "choropleth": [
           {
            "colorbar": {
             "outlinewidth": 0,
             "ticks": ""
            },
            "type": "choropleth"
           }
          ],
          "contour": [
           {
            "colorbar": {
             "outlinewidth": 0,
             "ticks": ""
            },
            "colorscale": [
             [
              0,
              "#0d0887"
             ],
             [
              0.1111111111111111,
              "#46039f"
             ],
             [
              0.2222222222222222,
              "#7201a8"
             ],
             [
              0.3333333333333333,
              "#9c179e"
             ],
             [
              0.4444444444444444,
              "#bd3786"
             ],
             [
              0.5555555555555556,
              "#d8576b"
             ],
             [
              0.6666666666666666,
              "#ed7953"
             ],
             [
              0.7777777777777778,
              "#fb9f3a"
             ],
             [
              0.8888888888888888,
              "#fdca26"
             ],
             [
              1,
              "#f0f921"
             ]
            ],
            "type": "contour"
           }
          ],
          "contourcarpet": [
           {
            "colorbar": {
             "outlinewidth": 0,
             "ticks": ""
            },
            "type": "contourcarpet"
           }
          ],
          "heatmap": [
           {
            "colorbar": {
             "outlinewidth": 0,
             "ticks": ""
            },
            "colorscale": [
             [
              0,
              "#0d0887"
             ],
             [
              0.1111111111111111,
              "#46039f"
             ],
             [
              0.2222222222222222,
              "#7201a8"
             ],
             [
              0.3333333333333333,
              "#9c179e"
             ],
             [
              0.4444444444444444,
              "#bd3786"
             ],
             [
              0.5555555555555556,
              "#d8576b"
             ],
             [
              0.6666666666666666,
              "#ed7953"
             ],
             [
              0.7777777777777778,
              "#fb9f3a"
             ],
             [
              0.8888888888888888,
              "#fdca26"
             ],
             [
              1,
              "#f0f921"
             ]
            ],
            "type": "heatmap"
           }
          ],
          "heatmapgl": [
           {
            "colorbar": {
             "outlinewidth": 0,
             "ticks": ""
            },
            "colorscale": [
             [
              0,
              "#0d0887"
             ],
             [
              0.1111111111111111,
              "#46039f"
             ],
             [
              0.2222222222222222,
              "#7201a8"
             ],
             [
              0.3333333333333333,
              "#9c179e"
             ],
             [
              0.4444444444444444,
              "#bd3786"
             ],
             [
              0.5555555555555556,
              "#d8576b"
             ],
             [
              0.6666666666666666,
              "#ed7953"
             ],
             [
              0.7777777777777778,
              "#fb9f3a"
             ],
             [
              0.8888888888888888,
              "#fdca26"
             ],
             [
              1,
              "#f0f921"
             ]
            ],
            "type": "heatmapgl"
           }
          ],
          "histogram": [
           {
            "marker": {
             "pattern": {
              "fillmode": "overlay",
              "size": 10,
              "solidity": 0.2
             }
            },
            "type": "histogram"
           }
          ],
          "histogram2d": [
           {
            "colorbar": {
             "outlinewidth": 0,
             "ticks": ""
            },
            "colorscale": [
             [
              0,
              "#0d0887"
             ],
             [
              0.1111111111111111,
              "#46039f"
             ],
             [
              0.2222222222222222,
              "#7201a8"
             ],
             [
              0.3333333333333333,
              "#9c179e"
             ],
             [
              0.4444444444444444,
              "#bd3786"
             ],
             [
              0.5555555555555556,
              "#d8576b"
             ],
             [
              0.6666666666666666,
              "#ed7953"
             ],
             [
              0.7777777777777778,
              "#fb9f3a"
             ],
             [
              0.8888888888888888,
              "#fdca26"
             ],
             [
              1,
              "#f0f921"
             ]
            ],
            "type": "histogram2d"
           }
          ],
          "histogram2dcontour": [
           {
            "colorbar": {
             "outlinewidth": 0,
             "ticks": ""
            },
            "colorscale": [
             [
              0,
              "#0d0887"
             ],
             [
              0.1111111111111111,
              "#46039f"
             ],
             [
              0.2222222222222222,
              "#7201a8"
             ],
             [
              0.3333333333333333,
              "#9c179e"
             ],
             [
              0.4444444444444444,
              "#bd3786"
             ],
             [
              0.5555555555555556,
              "#d8576b"
             ],
             [
              0.6666666666666666,
              "#ed7953"
             ],
             [
              0.7777777777777778,
              "#fb9f3a"
             ],
             [
              0.8888888888888888,
              "#fdca26"
             ],
             [
              1,
              "#f0f921"
             ]
            ],
            "type": "histogram2dcontour"
           }
          ],
          "mesh3d": [
           {
            "colorbar": {
             "outlinewidth": 0,
             "ticks": ""
            },
            "type": "mesh3d"
           }
          ],
          "parcoords": [
           {
            "line": {
             "colorbar": {
              "outlinewidth": 0,
              "ticks": ""
             }
            },
            "type": "parcoords"
           }
          ],
          "pie": [
           {
            "automargin": true,
            "type": "pie"
           }
          ],
          "scatter": [
           {
            "fillpattern": {
             "fillmode": "overlay",
             "size": 10,
             "solidity": 0.2
            },
            "type": "scatter"
           }
          ],
          "scatter3d": [
           {
            "line": {
             "colorbar": {
              "outlinewidth": 0,
              "ticks": ""
             }
            },
            "marker": {
             "colorbar": {
              "outlinewidth": 0,
              "ticks": ""
             }
            },
            "type": "scatter3d"
           }
          ],
          "scattercarpet": [
           {
            "marker": {
             "colorbar": {
              "outlinewidth": 0,
              "ticks": ""
             }
            },
            "type": "scattercarpet"
           }
          ],
          "scattergeo": [
           {
            "marker": {
             "colorbar": {
              "outlinewidth": 0,
              "ticks": ""
             }
            },
            "type": "scattergeo"
           }
          ],
          "scattergl": [
           {
            "marker": {
             "colorbar": {
              "outlinewidth": 0,
              "ticks": ""
             }
            },
            "type": "scattergl"
           }
          ],
          "scattermapbox": [
           {
            "marker": {
             "colorbar": {
              "outlinewidth": 0,
              "ticks": ""
             }
            },
            "type": "scattermapbox"
           }
          ],
          "scatterpolar": [
           {
            "marker": {
             "colorbar": {
              "outlinewidth": 0,
              "ticks": ""
             }
            },
            "type": "scatterpolar"
           }
          ],
          "scatterpolargl": [
           {
            "marker": {
             "colorbar": {
              "outlinewidth": 0,
              "ticks": ""
             }
            },
            "type": "scatterpolargl"
           }
          ],
          "scatterternary": [
           {
            "marker": {
             "colorbar": {
              "outlinewidth": 0,
              "ticks": ""
             }
            },
            "type": "scatterternary"
           }
          ],
          "surface": [
           {
            "colorbar": {
             "outlinewidth": 0,
             "ticks": ""
            },
            "colorscale": [
             [
              0,
              "#0d0887"
             ],
             [
              0.1111111111111111,
              "#46039f"
             ],
             [
              0.2222222222222222,
              "#7201a8"
             ],
             [
              0.3333333333333333,
              "#9c179e"
             ],
             [
              0.4444444444444444,
              "#bd3786"
             ],
             [
              0.5555555555555556,
              "#d8576b"
             ],
             [
              0.6666666666666666,
              "#ed7953"
             ],
             [
              0.7777777777777778,
              "#fb9f3a"
             ],
             [
              0.8888888888888888,
              "#fdca26"
             ],
             [
              1,
              "#f0f921"
             ]
            ],
            "type": "surface"
           }
          ],
          "table": [
           {
            "cells": {
             "fill": {
              "color": "#EBF0F8"
             },
             "line": {
              "color": "white"
             }
            },
            "header": {
             "fill": {
              "color": "#C8D4E3"
             },
             "line": {
              "color": "white"
             }
            },
            "type": "table"
           }
          ]
         },
         "layout": {
          "annotationdefaults": {
           "arrowcolor": "#2a3f5f",
           "arrowhead": 0,
           "arrowwidth": 1
          },
          "autotypenumbers": "strict",
          "coloraxis": {
           "colorbar": {
            "outlinewidth": 0,
            "ticks": ""
           }
          },
          "colorscale": {
           "diverging": [
            [
             0,
             "#8e0152"
            ],
            [
             0.1,
             "#c51b7d"
            ],
            [
             0.2,
             "#de77ae"
            ],
            [
             0.3,
             "#f1b6da"
            ],
            [
             0.4,
             "#fde0ef"
            ],
            [
             0.5,
             "#f7f7f7"
            ],
            [
             0.6,
             "#e6f5d0"
            ],
            [
             0.7,
             "#b8e186"
            ],
            [
             0.8,
             "#7fbc41"
            ],
            [
             0.9,
             "#4d9221"
            ],
            [
             1,
             "#276419"
            ]
           ],
           "sequential": [
            [
             0,
             "#0d0887"
            ],
            [
             0.1111111111111111,
             "#46039f"
            ],
            [
             0.2222222222222222,
             "#7201a8"
            ],
            [
             0.3333333333333333,
             "#9c179e"
            ],
            [
             0.4444444444444444,
             "#bd3786"
            ],
            [
             0.5555555555555556,
             "#d8576b"
            ],
            [
             0.6666666666666666,
             "#ed7953"
            ],
            [
             0.7777777777777778,
             "#fb9f3a"
            ],
            [
             0.8888888888888888,
             "#fdca26"
            ],
            [
             1,
             "#f0f921"
            ]
           ],
           "sequentialminus": [
            [
             0,
             "#0d0887"
            ],
            [
             0.1111111111111111,
             "#46039f"
            ],
            [
             0.2222222222222222,
             "#7201a8"
            ],
            [
             0.3333333333333333,
             "#9c179e"
            ],
            [
             0.4444444444444444,
             "#bd3786"
            ],
            [
             0.5555555555555556,
             "#d8576b"
            ],
            [
             0.6666666666666666,
             "#ed7953"
            ],
            [
             0.7777777777777778,
             "#fb9f3a"
            ],
            [
             0.8888888888888888,
             "#fdca26"
            ],
            [
             1,
             "#f0f921"
            ]
           ]
          },
          "colorway": [
           "#636efa",
           "#EF553B",
           "#00cc96",
           "#ab63fa",
           "#FFA15A",
           "#19d3f3",
           "#FF6692",
           "#B6E880",
           "#FF97FF",
           "#FECB52"
          ],
          "font": {
           "color": "#2a3f5f"
          },
          "geo": {
           "bgcolor": "white",
           "lakecolor": "white",
           "landcolor": "#E5ECF6",
           "showlakes": true,
           "showland": true,
           "subunitcolor": "white"
          },
          "hoverlabel": {
           "align": "left"
          },
          "hovermode": "closest",
          "mapbox": {
           "style": "light"
          },
          "paper_bgcolor": "white",
          "plot_bgcolor": "#E5ECF6",
          "polar": {
           "angularaxis": {
            "gridcolor": "white",
            "linecolor": "white",
            "ticks": ""
           },
           "bgcolor": "#E5ECF6",
           "radialaxis": {
            "gridcolor": "white",
            "linecolor": "white",
            "ticks": ""
           }
          },
          "scene": {
           "xaxis": {
            "backgroundcolor": "#E5ECF6",
            "gridcolor": "white",
            "gridwidth": 2,
            "linecolor": "white",
            "showbackground": true,
            "ticks": "",
            "zerolinecolor": "white"
           },
           "yaxis": {
            "backgroundcolor": "#E5ECF6",
            "gridcolor": "white",
            "gridwidth": 2,
            "linecolor": "white",
            "showbackground": true,
            "ticks": "",
            "zerolinecolor": "white"
           },
           "zaxis": {
            "backgroundcolor": "#E5ECF6",
            "gridcolor": "white",
            "gridwidth": 2,
            "linecolor": "white",
            "showbackground": true,
            "ticks": "",
            "zerolinecolor": "white"
           }
          },
          "shapedefaults": {
           "line": {
            "color": "#2a3f5f"
           }
          },
          "ternary": {
           "aaxis": {
            "gridcolor": "white",
            "linecolor": "white",
            "ticks": ""
           },
           "baxis": {
            "gridcolor": "white",
            "linecolor": "white",
            "ticks": ""
           },
           "bgcolor": "#E5ECF6",
           "caxis": {
            "gridcolor": "white",
            "linecolor": "white",
            "ticks": ""
           }
          },
          "title": {
           "x": 0.05
          },
          "xaxis": {
           "automargin": true,
           "gridcolor": "white",
           "linecolor": "white",
           "ticks": "",
           "title": {
            "standoff": 15
           },
           "zerolinecolor": "white",
           "zerolinewidth": 2
          },
          "yaxis": {
           "automargin": true,
           "gridcolor": "white",
           "linecolor": "white",
           "ticks": "",
           "title": {
            "standoff": 15
           },
           "zerolinecolor": "white",
           "zerolinewidth": 2
          }
         }
        },
        "title": {
         "text": "TV Show Content from Different Countries"
        }
       }
      }
     },
     "metadata": {},
     "output_type": "display_data"
    }
   ],
   "source": [
    "\n",
    "\n",
    "#tv show\n",
    "vc1 = df_tv['country'].value_counts().reset_index()\n",
    "vc1 = vc1.rename(columns = {'index':'country', 'country':'count'})\n",
    "\n",
    "country_tv=list(df_tv['country'])\n",
    "print(country_tv)\n",
    "\n",
    "\n",
    "cou_tv=[]\n",
    "for i in country_tv:\n",
    "    i = str(i)\n",
    "    if i == 'nan': continue\n",
    "    k = list(i.split(', '))\n",
    "    for j in k:\n",
    "        cou_tv.append(j)\n",
    "\n",
    "g = Counter(cou_tv)\n",
    "counts = pd.DataFrame(g.items(), columns=['label', 'counts'])\n",
    "\n",
    "fig1 = px.choropleth(counts,\n",
    "              locations='label',\n",
    "              locationmode='country names',\n",
    "              color='counts',\n",
    "              projection='kavrayskiy7',\n",
    "              scope='world',\n",
    "              title='TV Show Content from Different Countries',\n",
    "              color_continuous_scale=px.colors.sequential.Sunsetdark)\n",
    "\n",
    "fig1.show()"
   ]
  },
  {
   "cell_type": "code",
   "execution_count": 29,
   "metadata": {},
   "outputs": [],
   "source": [
    "import plotly.io as pio\n",
    "\n",
    "fh = open('data_viz_embed.html', 'w') # this just creates a blank file, so that the write_html() function can write to this file later\n",
    "fh.close()\n",
    "\n",
    "pio.write_html(fig1, file='data_viz_embed_just_div.html', auto_open=True, full_html=False) # preferred method"
   ]
  },
  {
   "cell_type": "code",
   "execution_count": null,
   "metadata": {},
   "outputs": [],
   "source": []
  },
  {
   "cell_type": "code",
   "execution_count": null,
   "metadata": {},
   "outputs": [],
   "source": []
  }
 ],
 "metadata": {
  "kernelspec": {
   "display_name": "base",
   "language": "python",
   "name": "python3"
  },
  "language_info": {
   "codemirror_mode": {
    "name": "ipython",
    "version": 3
   },
   "file_extension": ".py",
   "mimetype": "text/x-python",
   "name": "python",
   "nbconvert_exporter": "python",
   "pygments_lexer": "ipython3",
   "version": "3.9.13"
  },
  "orig_nbformat": 4
 },
 "nbformat": 4,
 "nbformat_minor": 2
}
